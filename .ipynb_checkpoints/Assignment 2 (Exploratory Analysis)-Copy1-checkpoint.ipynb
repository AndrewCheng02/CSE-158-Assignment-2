{
 "cells": [
  {
   "cell_type": "code",
   "execution_count": 1,
   "id": "1509efae",
   "metadata": {},
   "outputs": [],
   "source": [
    "import gzip\n",
    "import math\n",
    "import numpy as np\n",
    "import pandas as pd\n",
    "import matplotlib.pyplot as plt\n",
    "import seaborn as sns\n",
    "import patsy\n",
    "import statsmodels.api as sm\n",
    "import string"
   ]
  },
  {
   "cell_type": "code",
   "execution_count": 2,
   "id": "1784df52",
   "metadata": {},
   "outputs": [],
   "source": [
    "## DATA PROCESSING"
   ]
  },
  {
   "cell_type": "code",
   "execution_count": 3,
   "id": "047a61a6",
   "metadata": {},
   "outputs": [],
   "source": [
    "# interaction splits\n",
    "# interactions_test = pd.read_csv('datasets/interactions_test.csv')\n",
    "# interactions_train = pd.read_csv('datasets/interactions_train.csv')\n",
    "# interactions_validation = pd.read_csv('datasets/interactions_validation.csv')"
   ]
  },
  {
   "cell_type": "code",
   "execution_count": 4,
   "id": "7eaa392d",
   "metadata": {},
   "outputs": [],
   "source": [
    "# interactions_test.head()"
   ]
  },
  {
   "cell_type": "code",
   "execution_count": 5,
   "id": "8cfcd0f6",
   "metadata": {},
   "outputs": [],
   "source": [
    "# preprocessed data for result reproduction\n",
    "# pp_recipes = pd.read_csv('datasets/pp_recipes.csv')\n",
    "# pp_users = pd.read_csv('datasets/pp_users.csv')"
   ]
  },
  {
   "cell_type": "code",
   "execution_count": 6,
   "id": "f59e3fe0",
   "metadata": {},
   "outputs": [],
   "source": [
    "# pp_recipes.head(3)"
   ]
  },
  {
   "cell_type": "code",
   "execution_count": 7,
   "id": "caf22fa7",
   "metadata": {},
   "outputs": [],
   "source": [
    "# pp_users.head(3)"
   ]
  },
  {
   "cell_type": "code",
   "execution_count": 8,
   "id": "331e6e6f",
   "metadata": {},
   "outputs": [],
   "source": [
    "# raw data\n",
    "raw_interactions = pd.read_csv('datasets/raw_interactions.csv')\n",
    "raw_recipes = pd.read_csv('datasets/raw_recipes.csv')"
   ]
  },
  {
   "cell_type": "code",
   "execution_count": 9,
   "id": "4b21d728",
   "metadata": {},
   "outputs": [
    {
     "data": {
      "text/html": [
       "<div>\n",
       "<style scoped>\n",
       "    .dataframe tbody tr th:only-of-type {\n",
       "        vertical-align: middle;\n",
       "    }\n",
       "\n",
       "    .dataframe tbody tr th {\n",
       "        vertical-align: top;\n",
       "    }\n",
       "\n",
       "    .dataframe thead th {\n",
       "        text-align: right;\n",
       "    }\n",
       "</style>\n",
       "<table border=\"1\" class=\"dataframe\">\n",
       "  <thead>\n",
       "    <tr style=\"text-align: right;\">\n",
       "      <th></th>\n",
       "      <th>user_id</th>\n",
       "      <th>recipe_id</th>\n",
       "      <th>date</th>\n",
       "      <th>rating</th>\n",
       "      <th>review</th>\n",
       "    </tr>\n",
       "  </thead>\n",
       "  <tbody>\n",
       "    <tr>\n",
       "      <th>0</th>\n",
       "      <td>38094</td>\n",
       "      <td>40893</td>\n",
       "      <td>2003-02-17</td>\n",
       "      <td>4</td>\n",
       "      <td>Great with a salad. Cooked on top of stove for...</td>\n",
       "    </tr>\n",
       "    <tr>\n",
       "      <th>1</th>\n",
       "      <td>1293707</td>\n",
       "      <td>40893</td>\n",
       "      <td>2011-12-21</td>\n",
       "      <td>5</td>\n",
       "      <td>So simple, so delicious! Great for chilly fall...</td>\n",
       "    </tr>\n",
       "    <tr>\n",
       "      <th>2</th>\n",
       "      <td>8937</td>\n",
       "      <td>44394</td>\n",
       "      <td>2002-12-01</td>\n",
       "      <td>4</td>\n",
       "      <td>This worked very well and is EASY.  I used not...</td>\n",
       "    </tr>\n",
       "    <tr>\n",
       "      <th>3</th>\n",
       "      <td>126440</td>\n",
       "      <td>85009</td>\n",
       "      <td>2010-02-27</td>\n",
       "      <td>5</td>\n",
       "      <td>I made the Mexican topping and took it to bunk...</td>\n",
       "    </tr>\n",
       "    <tr>\n",
       "      <th>4</th>\n",
       "      <td>57222</td>\n",
       "      <td>85009</td>\n",
       "      <td>2011-10-01</td>\n",
       "      <td>5</td>\n",
       "      <td>Made the cheddar bacon topping, adding a sprin...</td>\n",
       "    </tr>\n",
       "  </tbody>\n",
       "</table>\n",
       "</div>"
      ],
      "text/plain": [
       "   user_id  recipe_id        date  rating  \\\n",
       "0    38094      40893  2003-02-17       4   \n",
       "1  1293707      40893  2011-12-21       5   \n",
       "2     8937      44394  2002-12-01       4   \n",
       "3   126440      85009  2010-02-27       5   \n",
       "4    57222      85009  2011-10-01       5   \n",
       "\n",
       "                                              review  \n",
       "0  Great with a salad. Cooked on top of stove for...  \n",
       "1  So simple, so delicious! Great for chilly fall...  \n",
       "2  This worked very well and is EASY.  I used not...  \n",
       "3  I made the Mexican topping and took it to bunk...  \n",
       "4  Made the cheddar bacon topping, adding a sprin...  "
      ]
     },
     "execution_count": 9,
     "metadata": {},
     "output_type": "execute_result"
    }
   ],
   "source": [
    "raw_interactions.head()"
   ]
  },
  {
   "cell_type": "code",
   "execution_count": 10,
   "id": "475e62e7",
   "metadata": {},
   "outputs": [
    {
     "data": {
      "text/html": [
       "<div>\n",
       "<style scoped>\n",
       "    .dataframe tbody tr th:only-of-type {\n",
       "        vertical-align: middle;\n",
       "    }\n",
       "\n",
       "    .dataframe tbody tr th {\n",
       "        vertical-align: top;\n",
       "    }\n",
       "\n",
       "    .dataframe thead th {\n",
       "        text-align: right;\n",
       "    }\n",
       "</style>\n",
       "<table border=\"1\" class=\"dataframe\">\n",
       "  <thead>\n",
       "    <tr style=\"text-align: right;\">\n",
       "      <th></th>\n",
       "      <th>name</th>\n",
       "      <th>id</th>\n",
       "      <th>minutes</th>\n",
       "      <th>contributor_id</th>\n",
       "      <th>submitted</th>\n",
       "      <th>tags</th>\n",
       "      <th>nutrition</th>\n",
       "      <th>n_steps</th>\n",
       "      <th>steps</th>\n",
       "      <th>description</th>\n",
       "      <th>ingredients</th>\n",
       "      <th>n_ingredients</th>\n",
       "    </tr>\n",
       "  </thead>\n",
       "  <tbody>\n",
       "    <tr>\n",
       "      <th>0</th>\n",
       "      <td>arriba   baked winter squash mexican style</td>\n",
       "      <td>137739</td>\n",
       "      <td>55</td>\n",
       "      <td>47892</td>\n",
       "      <td>2005-09-16</td>\n",
       "      <td>['60-minutes-or-less', 'time-to-make', 'course...</td>\n",
       "      <td>[51.5, 0.0, 13.0, 0.0, 2.0, 0.0, 4.0]</td>\n",
       "      <td>11</td>\n",
       "      <td>['make a choice and proceed with recipe', 'dep...</td>\n",
       "      <td>autumn is my favorite time of year to cook! th...</td>\n",
       "      <td>['winter squash', 'mexican seasoning', 'mixed ...</td>\n",
       "      <td>7</td>\n",
       "    </tr>\n",
       "    <tr>\n",
       "      <th>1</th>\n",
       "      <td>a bit different  breakfast pizza</td>\n",
       "      <td>31490</td>\n",
       "      <td>30</td>\n",
       "      <td>26278</td>\n",
       "      <td>2002-06-17</td>\n",
       "      <td>['30-minutes-or-less', 'time-to-make', 'course...</td>\n",
       "      <td>[173.4, 18.0, 0.0, 17.0, 22.0, 35.0, 1.0]</td>\n",
       "      <td>9</td>\n",
       "      <td>['preheat oven to 425 degrees f', 'press dough...</td>\n",
       "      <td>this recipe calls for the crust to be prebaked...</td>\n",
       "      <td>['prepared pizza crust', 'sausage patty', 'egg...</td>\n",
       "      <td>6</td>\n",
       "    </tr>\n",
       "    <tr>\n",
       "      <th>2</th>\n",
       "      <td>all in the kitchen  chili</td>\n",
       "      <td>112140</td>\n",
       "      <td>130</td>\n",
       "      <td>196586</td>\n",
       "      <td>2005-02-25</td>\n",
       "      <td>['time-to-make', 'course', 'preparation', 'mai...</td>\n",
       "      <td>[269.8, 22.0, 32.0, 48.0, 39.0, 27.0, 5.0]</td>\n",
       "      <td>6</td>\n",
       "      <td>['brown ground beef in large pot', 'add choppe...</td>\n",
       "      <td>this modified version of 'mom's' chili was a h...</td>\n",
       "      <td>['ground beef', 'yellow onions', 'diced tomato...</td>\n",
       "      <td>13</td>\n",
       "    </tr>\n",
       "  </tbody>\n",
       "</table>\n",
       "</div>"
      ],
      "text/plain": [
       "                                         name      id  minutes  \\\n",
       "0  arriba   baked winter squash mexican style  137739       55   \n",
       "1            a bit different  breakfast pizza   31490       30   \n",
       "2                   all in the kitchen  chili  112140      130   \n",
       "\n",
       "   contributor_id   submitted  \\\n",
       "0           47892  2005-09-16   \n",
       "1           26278  2002-06-17   \n",
       "2          196586  2005-02-25   \n",
       "\n",
       "                                                tags  \\\n",
       "0  ['60-minutes-or-less', 'time-to-make', 'course...   \n",
       "1  ['30-minutes-or-less', 'time-to-make', 'course...   \n",
       "2  ['time-to-make', 'course', 'preparation', 'mai...   \n",
       "\n",
       "                                    nutrition  n_steps  \\\n",
       "0       [51.5, 0.0, 13.0, 0.0, 2.0, 0.0, 4.0]       11   \n",
       "1   [173.4, 18.0, 0.0, 17.0, 22.0, 35.0, 1.0]        9   \n",
       "2  [269.8, 22.0, 32.0, 48.0, 39.0, 27.0, 5.0]        6   \n",
       "\n",
       "                                               steps  \\\n",
       "0  ['make a choice and proceed with recipe', 'dep...   \n",
       "1  ['preheat oven to 425 degrees f', 'press dough...   \n",
       "2  ['brown ground beef in large pot', 'add choppe...   \n",
       "\n",
       "                                         description  \\\n",
       "0  autumn is my favorite time of year to cook! th...   \n",
       "1  this recipe calls for the crust to be prebaked...   \n",
       "2  this modified version of 'mom's' chili was a h...   \n",
       "\n",
       "                                         ingredients  n_ingredients  \n",
       "0  ['winter squash', 'mexican seasoning', 'mixed ...              7  \n",
       "1  ['prepared pizza crust', 'sausage patty', 'egg...              6  \n",
       "2  ['ground beef', 'yellow onions', 'diced tomato...             13  "
      ]
     },
     "execution_count": 10,
     "metadata": {},
     "output_type": "execute_result"
    }
   ],
   "source": [
    "raw_recipes.head(3)"
   ]
  },
  {
   "cell_type": "code",
   "execution_count": 11,
   "id": "39644b0e",
   "metadata": {},
   "outputs": [
    {
     "name": "stdout",
     "output_type": "stream",
     "text": [
      "Recipes Column Types:\n",
      "name                      object\n",
      "id                         int64\n",
      "minutes                    int64\n",
      "contributor_id             int64\n",
      "submitted         datetime64[ns]\n",
      "tags                      object\n",
      "nutrition                 object\n",
      "n_steps                    int64\n",
      "steps                     object\n",
      "description               object\n",
      "ingredients               object\n",
      "n_ingredients              int64\n",
      "dtype: object\n",
      "Interactions Column Types:\n",
      "user_id               int64\n",
      "recipe_id             int64\n",
      "date         datetime64[ns]\n",
      "rating                int64\n",
      "review               object\n",
      "dtype: object\n"
     ]
    }
   ],
   "source": [
    "# DATA CLEANING\n",
    "\n",
    "# drop nulls\n",
    "raw_recipes.dropna(inplace=True)\n",
    "raw_interactions.dropna(inplace=True)\n",
    "\n",
    "# conversion to datetime objects\n",
    "raw_recipes['submitted'] = pd.to_datetime(raw_recipes['submitted'], format='%Y-%m-%d')\n",
    "raw_interactions['date'] = pd.to_datetime(raw_interactions['date'], format='%Y-%m-%d')\n",
    "\n",
    "# check column types\n",
    "recipes_column_types = raw_recipes.dtypes\n",
    "interactions_column_types = raw_interactions.dtypes\n",
    "print('Recipes Column Types:')\n",
    "print(recipes_column_types)\n",
    "print('Interactions Column Types:')\n",
    "print(interactions_column_types)"
   ]
  },
  {
   "cell_type": "code",
   "execution_count": 12,
   "id": "3311f873",
   "metadata": {},
   "outputs": [],
   "source": [
    "## EXPLORATORY ANALYSIS"
   ]
  },
  {
   "cell_type": "code",
   "execution_count": 13,
   "id": "07a8e995",
   "metadata": {},
   "outputs": [
    {
     "data": {
      "image/png": "[encoded data removed]",
      "text/plain": [
       "<Figure size 1080x720 with 4 Axes>"
      ]
     },
     "metadata": {
      "needs_background": "light"
     },
     "output_type": "display_data"
    },
    {
     "name": "stdout",
     "output_type": "stream",
     "text": [
      "Minutes Summary Stats:\n",
      "count    2.266570e+05\n",
      "mean     9.602472e+03\n",
      "std      4.510715e+06\n",
      "min      0.000000e+00\n",
      "25%      2.000000e+01\n",
      "50%      4.000000e+01\n",
      "75%      6.500000e+01\n",
      "max      2.147484e+09\n",
      "Name: minutes, dtype: float64\n",
      "Number of Steps Summary Stats:\n",
      "count    226657.000000\n",
      "mean          9.773927\n",
      "std           5.999824\n",
      "min           0.000000\n",
      "25%           6.000000\n",
      "50%           9.000000\n",
      "75%          12.000000\n",
      "max         145.000000\n",
      "Name: n_steps, dtype: float64\n",
      "Number of Ingredients Summary Stats:\n",
      "count    226657.000000\n",
      "mean          9.054170\n",
      "std           3.740942\n",
      "min           1.000000\n",
      "25%           6.000000\n",
      "50%           9.000000\n",
      "75%          11.000000\n",
      "max          43.000000\n",
      "Name: n_ingredients, dtype: float64\n",
      "Submission Date Summary Stats:\n",
      "count                           226657\n",
      "mean     2006-12-22 20:53:20.176478208\n",
      "min                1999-08-06 00:00:00\n",
      "25%                2004-12-08 00:00:00\n",
      "50%                2007-02-17 00:00:00\n",
      "75%                2008-11-11 00:00:00\n",
      "max                2018-12-04 00:00:00\n",
      "Name: submitted, dtype: object\n"
     ]
    }
   ],
   "source": [
    "# RECIPES\n",
    "\n",
    "# analyze numerical columns\n",
    "numerical_recipes = raw_recipes[['minutes', 'n_steps', 'n_ingredients', 'submitted']]\n",
    "numerical_recipes.hist(bins=30, figsize=(15,10))\n",
    "plt.show()\n",
    "\n",
    "# get summary statistics\n",
    "print(\"Minutes Summary Stats:\")\n",
    "print(raw_recipes['minutes'].describe())\n",
    "\n",
    "print(\"Number of Steps Summary Stats:\")\n",
    "print(raw_recipes['n_steps'].describe())\n",
    "\n",
    "print(\"Number of Ingredients Summary Stats:\")\n",
    "print(raw_recipes['n_ingredients'].describe())\n",
    "\n",
    "print(\"Submission Date Summary Stats:\")\n",
    "print(raw_recipes['submitted'].describe(datetime_is_numeric=True))"
   ]
  },
  {
   "cell_type": "code",
   "execution_count": 14,
   "id": "6cc460dd",
   "metadata": {},
   "outputs": [
    {
     "data": {
      "image/png": "[encoded data removed]",
      "text/plain": [
       "<Figure size 1080x720 with 2 Axes>"
      ]
     },
     "metadata": {
      "needs_background": "light"
     },
     "output_type": "display_data"
    },
    {
     "name": "stdout",
     "output_type": "stream",
     "text": [
      "Recipe Ratings Summary Stats:\n",
      "count    1.132198e+06\n",
      "mean     4.410971e+00\n",
      "std      1.264812e+00\n",
      "min      0.000000e+00\n",
      "25%      4.000000e+00\n",
      "50%      5.000000e+00\n",
      "75%      5.000000e+00\n",
      "max      5.000000e+00\n",
      "Name: rating, dtype: float64\n",
      "Submission Date Summary Stats:\n",
      "count                          1132198\n",
      "mean     2009-05-12 16:06:39.593711360\n",
      "min                2000-01-25 00:00:00\n",
      "25%                2007-03-11 00:00:00\n",
      "50%                2008-12-28 00:00:00\n",
      "75%                2011-03-06 00:00:00\n",
      "max                2018-12-20 00:00:00\n",
      "Name: date, dtype: object\n"
     ]
    }
   ],
   "source": [
    "# INTERACTIONS\n",
    "\n",
    "# analyze numerical variables\n",
    "numerical_interactions = raw_interactions[['rating', 'date']]\n",
    "numerical_interactions.hist(bins=30, figsize=(15,10))\n",
    "plt.show()\n",
    "\n",
    "# get summary statistics\n",
    "print(\"Recipe Ratings Summary Stats:\")\n",
    "print(raw_interactions['rating'].describe())\n",
    "\n",
    "print(\"Submission Date Summary Stats:\")\n",
    "print(raw_interactions['date'].describe(datetime_is_numeric=True))"
   ]
  },
  {
   "cell_type": "code",
   "execution_count": 15,
   "id": "172bd204",
   "metadata": {},
   "outputs": [
    {
     "name": "stdout",
     "output_type": "stream",
     "text": [
      "                      id   minutes  contributor_id   n_steps  n_ingredients\n",
      "id              1.000000  0.000533        0.115105  0.064795       0.039712\n",
      "minutes         0.000533  1.000000       -0.000108 -0.000263      -0.000599\n",
      "contributor_id  0.115105 -0.000108        1.000000  0.038882       0.019741\n",
      "n_steps         0.064795 -0.000263        0.038882  1.000000       0.427783\n",
      "n_ingredients   0.039712 -0.000599        0.019741  0.427783       1.000000\n"
     ]
    },
    {
     "data": {
      "image/png": "[encoded data removed]",
      "text/plain": [
       "<Figure size 720x576 with 2 Axes>"
      ]
     },
     "metadata": {},
     "output_type": "display_data"
    }
   ],
   "source": [
    "# investigate correlations in recipes\n",
    "recipes_corr_matrix = raw_recipes.corr()\n",
    "print(recipes_corr_matrix)\n",
    "\n",
    "# create heatmap to visualize correlations\n",
    "sns.set(style=\"white\")\n",
    "plt.figure(figsize=(10, 8))\n",
    "sns.heatmap(recipes_corr_matrix, annot=True, cmap='coolwarm', fmt=\".2f\", linewidths=.5)\n",
    "plt.title(\"Correlation Matrix\")\n",
    "plt.show()"
   ]
  },
  {
   "cell_type": "code",
   "execution_count": 16,
   "id": "eca12545",
   "metadata": {},
   "outputs": [
    {
     "name": "stdout",
     "output_type": "stream",
     "text": [
      "                            OLS Regression Results                            \n",
      "==============================================================================\n",
      "Dep. Variable:                n_steps   R-squared:                       0.183\n",
      "Model:                            OLS   Adj. R-squared:                  0.183\n",
      "Method:                 Least Squares   F-statistic:                 5.077e+04\n",
      "Date:                Tue, 05 Dec 2023   Prob (F-statistic):               0.00\n",
      "Time:                        17:30:02   Log-Likelihood:            -7.0481e+05\n",
      "No. Observations:              226657   AIC:                         1.410e+06\n",
      "Df Residuals:                  226655   BIC:                         1.410e+06\n",
      "Df Model:                           1                                         \n",
      "Covariance Type:            nonrobust                                         \n",
      "=================================================================================\n",
      "                    coef    std err          t      P>|t|      [0.025      0.975]\n",
      "---------------------------------------------------------------------------------\n",
      "Intercept         3.5620      0.030    119.407      0.000       3.503       3.620\n",
      "n_ingredients     0.6861      0.003    225.317      0.000       0.680       0.692\n",
      "==============================================================================\n",
      "Omnibus:                   113423.109   Durbin-Watson:                   1.780\n",
      "Prob(Omnibus):                  0.000   Jarque-Bera (JB):          1723494.379\n",
      "Skew:                           2.044   Prob(JB):                         0.00\n",
      "Kurtosis:                      15.876   Cond. No.                         25.9\n",
      "==============================================================================\n",
      "\n",
      "Notes:\n",
      "[1] Standard Errors assume that the covariance matrix of the errors is correctly specified.\n"
     ]
    },
    {
     "data": {
      "text/plain": [
       "<seaborn.axisgrid.FacetGrid at 0x25213acad90>"
      ]
     },
     "execution_count": 16,
     "metadata": {},
     "output_type": "execute_result"
    },
    {
     "data": {
      "image/png": "[encoded data removed]",
      "text/plain": [
       "<Figure size 360x360 with 1 Axes>"
      ]
     },
     "metadata": {},
     "output_type": "display_data"
    }
   ],
   "source": [
    "# investigate correlation between n_steps and n_ingredients\n",
    "x, y = patsy.dmatrices('n_steps ~ n_ingredients', raw_recipes)\n",
    "mod_1 = sm.OLS(x, y)\n",
    "res_1 = mod_1.fit()\n",
    "print(res_1.summary())\n",
    "sns.lmplot(data = raw_recipes, y = 'n_ingredients', x = 'n_steps')"
   ]
  },
  {
   "cell_type": "code",
   "execution_count": 17,
   "id": "b5a303fd",
   "metadata": {},
   "outputs": [
    {
     "name": "stdout",
     "output_type": "stream",
     "text": [
      "            user_id  recipe_id    rating\n",
      "user_id    1.000000   0.099961 -0.196492\n",
      "recipe_id  0.099961   1.000000 -0.013588\n",
      "rating    -0.196492  -0.013588  1.000000\n"
     ]
    },
    {
     "data": {
      "image/png": "[encoded data removed]",
      "text/plain": [
       "<Figure size 720x576 with 2 Axes>"
      ]
     },
     "metadata": {},
     "output_type": "display_data"
    }
   ],
   "source": [
    "# investigate correlations in interactions\n",
    "interactions_corr_matrix = raw_interactions.corr()\n",
    "print(interactions_corr_matrix)\n",
    "\n",
    "# create heatmap to visualize correlations\n",
    "sns.set(style=\"white\")\n",
    "plt.figure(figsize=(10, 8))\n",
    "sns.heatmap(interactions_corr_matrix, annot=True, cmap='coolwarm', fmt=\".2f\", linewidths=.5)\n",
    "plt.title(\"Correlation Matrix\")\n",
    "plt.show()"
   ]
  },
  {
   "cell_type": "code",
   "execution_count": 18,
   "id": "a1988c0a",
   "metadata": {},
   "outputs": [],
   "source": [
    "## TEXT ANALYSIS"
   ]
  },
  {
   "cell_type": "code",
   "execution_count": 19,
   "id": "48dd7f34",
   "metadata": {},
   "outputs": [],
   "source": [
    "## How do capitalized words correlate with rating?"
   ]
  },
  {
   "cell_type": "code",
   "execution_count": 20,
   "id": "626a1690",
   "metadata": {},
   "outputs": [],
   "source": [
    "# capture all capitalized words in each review\n",
    "raw_interactions['review'] = raw_interactions['review'].apply(lambda x: ' '.join([word for word in x.split() if word.isalpha() and word.isupper()]))\n",
    "raw_interactions['capitalized_words'] = raw_interactions['review'].apply(lambda x: x.split())\n",
    "word_ratings = raw_interactions.explode('capitalized_words').groupby('capitalized_words')['rating'].mean().reset_index()"
   ]
  },
  {
   "cell_type": "code",
   "execution_count": 32,
   "id": "a1e7e12c",
   "metadata": {},
   "outputs": [
    {
     "name": "stdout",
     "output_type": "stream",
     "text": [
      "Top 10 Words\n",
      "      capitalized_words  rating\n",
      "4218              NOTES     5.0\n",
      "4223                NOV     5.0\n",
      "195   AMAZZZIIINNNGGGGG     5.0\n",
      "50                ACIDS     5.0\n",
      "49                  ACE     5.0\n",
      "38           ABSULUTELY     5.0\n",
      "7180         YUMMMMYYYY     5.0\n",
      "7179          YUMMMMYYY     5.0\n",
      "198            AMBROSIA     5.0\n",
      "7216    YUUUUMMMMMMMMMM     5.0\n",
      "Worst 10 Words\n",
      "     capitalized_words  rating\n",
      "6591              URGH     0.0\n",
      "1319             CUBES     0.0\n",
      "1317              CUBE     0.0\n",
      "5013           RALEIGH     0.0\n",
      "4850           PRESENT     0.0\n",
      "3368           LACTOSE     0.0\n",
      "1311               CSI     0.0\n",
      "1469        DEFINENTLY     0.0\n",
      "1528            DESROS     0.0\n",
      "1515           DEPENDS     0.0\n"
     ]
    }
   ],
   "source": [
    "# explore correlation\n",
    "\n",
    "# words associated with top 10 highest ratings\n",
    "best_words = word_ratings.sort_values(by='rating', ascending=False).head(10)\n",
    "print('Top 10 Words')\n",
    "print(best_words)\n",
    "\n",
    "# words associated with top 10 highest ratings\n",
    "worst_words = word_ratings.sort_values(by='rating').head(10)\n",
    "print('Worst 10 Words')\n",
    "print(worst_words)"
   ]
  },
  {
   "cell_type": "code",
   "execution_count": null,
   "id": "6c46ef59",
   "metadata": {},
   "outputs": [],
   "source": []
  }
 ],
 "metadata": {
  "kernelspec": {
   "display_name": "Python 3 (ipykernel)",
   "language": "python",
   "name": "python3"
  },
  "language_info": {
   "codemirror_mode": {
    "name": "ipython",
    "version": 3
   },
   "file_extension": ".py",
   "mimetype": "text/x-python",
   "name": "python",
   "nbconvert_exporter": "python",
   "pygments_lexer": "ipython3",
   "version": "3.9.7"
  }
 },
 "nbformat": 4,
 "nbformat_minor": 5
}
